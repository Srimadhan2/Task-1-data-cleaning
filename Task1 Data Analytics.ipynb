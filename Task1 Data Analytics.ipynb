{
 "cells": [
  {
   "cell_type": "code",
   "execution_count": 3,
   "id": "8bd43166-a91c-42e4-a15d-a7ed095b097c",
   "metadata": {},
   "outputs": [],
   "source": [
    "import pandas as pd\n"
   ]
  },
  {
   "cell_type": "code",
   "execution_count": 6,
   "id": "30c5bf2b-13fc-49ba-af85-29ba291e0050",
   "metadata": {},
   "outputs": [],
   "source": [
    "df=pd.read_csv(\"D:/Datasets/valid/netflix_titles.csv\")"
   ]
  },
  {
   "cell_type": "code",
   "execution_count": 7,
   "id": "70dcc845-d801-4afb-84e9-6aee59a4794d",
   "metadata": {},
   "outputs": [
    {
     "data": {
      "text/plain": [
       "show_id            0\n",
       "type               0\n",
       "title              0\n",
       "director        2634\n",
       "cast             825\n",
       "country          831\n",
       "date_added        10\n",
       "release_year       0\n",
       "rating             4\n",
       "duration           3\n",
       "listed_in          0\n",
       "description        0\n",
       "dtype: int64"
      ]
     },
     "execution_count": 7,
     "metadata": {},
     "output_type": "execute_result"
    }
   ],
   "source": [
    "df.isnull().sum()"
   ]
  },
  {
   "cell_type": "code",
   "execution_count": 10,
   "id": "9d023dd0-fbf5-48d9-b0de-e358fc2c1929",
   "metadata": {},
   "outputs": [],
   "source": [
    "df.dropna(inplace=True)"
   ]
  },
  {
   "cell_type": "code",
   "execution_count": 11,
   "id": "f9ef9c4e-0da8-4895-b6cf-befa82f2014b",
   "metadata": {},
   "outputs": [],
   "source": [
    "df.drop_duplicates(inplace=True)\n",
    "                   "
   ]
  },
  {
   "cell_type": "code",
   "execution_count": 12,
   "id": "0d41f6c0-c615-44ef-97ca-73904fac749d",
   "metadata": {},
   "outputs": [],
   "source": [
    "df['type'] = df['type'].str.strip().str.title()\n",
    "df['country'] = df['country'].str.strip().str.title()\n",
    "df['director'] = df['director'].fillna('Unknown').str.strip().str.title()"
   ]
  },
  {
   "cell_type": "code",
   "execution_count": 13,
   "id": "90c7c849-e137-4430-bca1-043a476c4e06",
   "metadata": {},
   "outputs": [],
   "source": [
    "df['date_added'] = pd.to_datetime(df['date_added'], errors='coerce', dayfirst=True)"
   ]
  },
  {
   "cell_type": "code",
   "execution_count": 14,
   "id": "b8a225a6-87eb-42a4-8541-92ee1392988f",
   "metadata": {},
   "outputs": [],
   "source": [
    "df.columns = df.columns.str.strip().str.lower().str.replace(' ', '_')"
   ]
  },
  {
   "cell_type": "code",
   "execution_count": 15,
   "id": "2a5a5ba9-702d-43dd-bac7-503cdc9dde31",
   "metadata": {},
   "outputs": [],
   "source": [
    "df['release_year'] = df['release_year'].astype('Int64')"
   ]
  },
  {
   "cell_type": "code",
   "execution_count": 16,
   "id": "82455b99-a2ea-46e9-a134-47b4ce06cf4d",
   "metadata": {},
   "outputs": [
    {
     "name": "stdout",
     "output_type": "stream",
     "text": [
      "<class 'pandas.core.frame.DataFrame'>\n",
      "Index: 8806 entries, 1 to 8806\n",
      "Data columns (total 12 columns):\n",
      " #   Column        Non-Null Count  Dtype         \n",
      "---  ------        --------------  -----         \n",
      " 0   show_id       8806 non-null   object        \n",
      " 1   type          8806 non-null   object        \n",
      " 2   title         8806 non-null   object        \n",
      " 3   director      8806 non-null   object        \n",
      " 4   cast          8806 non-null   object        \n",
      " 5   country       8806 non-null   object        \n",
      " 6   date_added    8718 non-null   datetime64[ns]\n",
      " 7   release_year  8806 non-null   Int64         \n",
      " 8   rating        8806 non-null   object        \n",
      " 9   duration      8806 non-null   object        \n",
      " 10  listed_in     8806 non-null   object        \n",
      " 11  description   8806 non-null   object        \n",
      "dtypes: Int64(1), datetime64[ns](1), object(10)\n",
      "memory usage: 903.0+ KB\n",
      "None\n",
      "  show_id     type                  title         director  \\\n",
      "1      s2  Tv Show          Blood & Water  Kirsten Johnson   \n",
      "2      s3  Tv Show              Ganglands  Julien Leclercq   \n",
      "3      s4  Tv Show  Jailbirds New Orleans  Julien Leclercq   \n",
      "4      s5  Tv Show           Kota Factory  Julien Leclercq   \n",
      "5      s6  Tv Show          Midnight Mass    Mike Flanagan   \n",
      "\n",
      "                                                cast       country date_added  \\\n",
      "1  Ama Qamata, Khosi Ngema, Gail Mabalane, Thaban...  South Africa 2021-09-24   \n",
      "2  Sami Bouajila, Tracy Gotoas, Samuel Jouy, Nabi...  South Africa 2021-09-24   \n",
      "3  Sami Bouajila, Tracy Gotoas, Samuel Jouy, Nabi...  South Africa 2021-09-24   \n",
      "4  Mayur More, Jitendra Kumar, Ranjan Raj, Alam K...         India 2021-09-24   \n",
      "5  Kate Siegel, Zach Gilford, Hamish Linklater, H...         India 2021-09-24   \n",
      "\n",
      "   release_year rating   duration  \\\n",
      "1          2021  TV-MA  2 Seasons   \n",
      "2          2021  TV-MA   1 Season   \n",
      "3          2021  TV-MA   1 Season   \n",
      "4          2021  TV-MA  2 Seasons   \n",
      "5          2021  TV-MA   1 Season   \n",
      "\n",
      "                                           listed_in  \\\n",
      "1    International TV Shows, TV Dramas, TV Mysteries   \n",
      "2  Crime TV Shows, International TV Shows, TV Act...   \n",
      "3                             Docuseries, Reality TV   \n",
      "4  International TV Shows, Romantic TV Shows, TV ...   \n",
      "5                 TV Dramas, TV Horror, TV Mysteries   \n",
      "\n",
      "                                         description  \n",
      "1  After crossing paths at a party, a Cape Town t...  \n",
      "2  To protect his family from a powerful drug lor...  \n",
      "3  Feuds, flirtations and toilet talk go down amo...  \n",
      "4  In a city of coaching centers known to train I...  \n",
      "5  The arrival of a charismatic young priest brin...  \n"
     ]
    }
   ],
   "source": [
    "print(df.info())\n",
    "print(df.head())"
   ]
  },
  {
   "cell_type": "code",
   "execution_count": 19,
   "id": "e15c186c-ef5d-4435-a5e0-0f262ed7019c",
   "metadata": {},
   "outputs": [],
   "source": [
    "df=pd.read_csv(\"D:/Datasets/valid/netflix_titles.csv\")"
   ]
  },
  {
   "cell_type": "code",
   "execution_count": 22,
   "id": "478ba82d-bbe4-49a0-af96-0041539c8c8e",
   "metadata": {},
   "outputs": [],
   "source": [
    "index=False\n"
   ]
  },
  {
   "cell_type": "code",
   "execution_count": null,
   "id": "be17c28e-018a-433c-8985-d8355c8ffc40",
   "metadata": {},
   "outputs": [],
   "source": []
  }
 ],
 "metadata": {
  "kernelspec": {
   "display_name": "Python 3 (ipykernel)",
   "language": "python",
   "name": "python3"
  },
  "language_info": {
   "codemirror_mode": {
    "name": "ipython",
    "version": 3
   },
   "file_extension": ".py",
   "mimetype": "text/x-python",
   "name": "python",
   "nbconvert_exporter": "python",
   "pygments_lexer": "ipython3",
   "version": "3.11.7"
  }
 },
 "nbformat": 4,
 "nbformat_minor": 5
}
